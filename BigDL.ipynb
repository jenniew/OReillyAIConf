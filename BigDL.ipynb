{
 "cells": [
  {
   "cell_type": "markdown",
   "metadata": {
    "collapsed": true
   },
   "source": [
    "# Resilient Distributed Datasets (RDDs)"
   ]
  },
  {
   "cell_type": "markdown",
   "metadata": {},
   "source": [
    "In this tutorial, we are going to introduce the *resilient distributed datasets* (RDDs) which is Spark's core abstraction for working with data. An RDD is a distributed collection of elements which can be operated on in parallel. Users can create RDD in two ways: *parallelizing* an existing collection in your driver program, or loading a dataset in an external storage system. RDDs support two types of operations: *transformations* and *actions*. *Transformations* construct a new RDD from a previous one and *actions* compute a result based on an RDD,. We will introduce the basic opeartions of RDDs by a simple word count example:"
   ]
  },
  {
   "cell_type": "code",
   "execution_count": null,
   "metadata": {},
   "outputs": [],
   "source": [
    ""
   ]
  }
 ],
 "metadata": {
  "celltoolbar": "Edit Metadata",
  "kernelspec": {
   "display_name": "Python 2",
   "language": "python",
   "name": "python2"
  },
  "language_info": {
   "codemirror_mode": {
    "name": "ipython",
    "version": 2.0
   },
   "file_extension": ".py",
   "mimetype": "text/x-python",
   "name": "python",
   "nbconvert_exporter": "python",
   "pygments_lexer": "ipython2",
   "version": "2.7.13"
  }
 },
 "nbformat": 4,
 "nbformat_minor": 0
}